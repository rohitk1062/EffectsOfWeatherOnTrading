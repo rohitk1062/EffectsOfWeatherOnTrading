{
 "cells": [
  {
   "cell_type": "code",
   "execution_count": null,
   "metadata": {},
   "outputs": [],
   "source": [
    "%matplotlib inline\n",
    "import matplotlib.pyplot as plt\n",
    "import seaborn as sns"
   ]
  },
  {
   "cell_type": "code",
   "execution_count": null,
   "metadata": {},
   "outputs": [],
   "source": [
    "import pandas as pd\n",
    "import numpy as np\n",
    "import statsmodels.api as sm\n",
    "import statsmodels.stats.api as sms\n",
    "from statsmodels.stats.diagnostic import normal_ad\n",
    "from statsmodels.stats.outliers_influence import variance_inflation_factor\n",
    "from stargazer.stargazer import Stargazer\n",
    "from IPython.core.display import HTML\n",
    "from IPython.core.display import Latex\n",
    "from statsmodels.iolib.summary2 import summary_col"
   ]
  },
  {
   "cell_type": "code",
   "execution_count": null,
   "metadata": {},
   "outputs": [],
   "source": [
    "#read data about chicago weather. Has 4 non null columns: wind,precipitation,snowfall,temp\n",
    "dfCHI = pd.read_csv(\"/Users/rohitk/Documents/Econ422Data/ChicagoWeather.csv\")\n",
    "dfCHI = dfCHI.drop(columns=['WESD','STATION','NAME'])\n",
    "dfCHI = dfCHI.dropna()\n",
    "dfCHI = dfCHI.groupby(['DATE']).mean()\n",
    "dfCHI.index = pd.to_datetime(dfCHI.index)"
   ]
  },
  {
   "cell_type": "code",
   "execution_count": null,
   "metadata": {
    "scrolled": true
   },
   "outputs": [],
   "source": [
    "#read data about nyc weather. Has 4 non null columns: wind,precipitation,snowfall,temp\n",
    "dfNYC = pd.read_csv(\"/Users/rohitk/Documents/Econ422Data/NYCWeather.csv\")\n",
    "dfNYC = dfNYC.drop(columns=['PSUN','WESD','STATION','NAME'])\n",
    "dfNYC = dfNYC.dropna()\n",
    "dfNYC = dfNYC.groupby(['DATE']).mean()\n",
    "dfNYC.index = pd.to_datetime(dfNYC.index)"
   ]
  },
  {
   "cell_type": "code",
   "execution_count": null,
   "metadata": {},
   "outputs": [],
   "source": [
    "#read data about SPY historical volumes\n",
    "dfSPY = pd.read_csv(\"/Users/rohitk/Documents/Econ422Data/SPYvolumes5Y.csv\")\n",
    "dfSPY.index = pd.to_datetime(dfSPY['Date'])\n",
    "dfSPY = dfSPY[[' Volume']]"
   ]
  },
  {
   "cell_type": "code",
   "execution_count": null,
   "metadata": {},
   "outputs": [],
   "source": [
    "#Join tables by date\n",
    "SPYandNYC = pd.merge(dfNYC,dfSPY, how='inner',left_index=True,right_index=True)\n",
    "SPYandCHI = pd.merge(dfCHI,dfSPY, how='inner',left_index=True,right_index=True)"
   ]
  },
  {
   "cell_type": "code",
   "execution_count": null,
   "metadata": {
    "scrolled": false
   },
   "outputs": [],
   "source": [
    "#SPY and NYC analysis\n",
    "x = SPYandNYC[['AWND', 'PRCP','SNOW','TAVG']]\n",
    "x1 = SPYandNYC[['AWND','PRCP','TAVG']]\n",
    "x2 = SPYandNYC[['PRCP','TAVG']]\n",
    "x3 = SPYandNYC[['TAVG']]\n",
    "y = SPYandNYC[[' Volume']]\n",
    "\n",
    "vif = pd.DataFrame()\n",
    "vif[\"variables\"] = x.columns\n",
    "vif[\"VIF\"] = [variance_inflation_factor(x.values, i) for i in range(x.shape[1])]\n",
    "display(vif)\n",
    "\n",
    "x = sm.add_constant(x)\n",
    "x1 = sm.add_constant(x1)\n",
    "x2 = sm.add_constant(x2)\n",
    "x3 = sm.add_constant(x3)\n",
    "\n",
    "model = sm.OLS(y,x).fit()\n",
    "model1 = sm.OLS(y,x1).fit()\n",
    "model2 = sm.OLS(y,x2).fit()\n",
    "model3 = sm.OLS(y,x3).fit()\n",
    "test = sms.het_white(model.resid,model.model.exog)\n",
    "print(\"White test: \" + str(test))\n",
    "\n",
    "stargazer = Stargazer([model, model1,model2,model3])\n",
    "stargazer.title('SPY Volume and NYC Weather')\n",
    "stargazer.custom_columns(['Full model','Omit Snowfall','Omit Snowfall and Wind','Only Temperature'],[1,1,1,1])\n",
    "\n",
    "HTML(stargazer.render_html())\n",
    "#Latex(stargazer.render_latex())"
   ]
  },
  {
   "cell_type": "code",
   "execution_count": null,
   "metadata": {
    "scrolled": false
   },
   "outputs": [],
   "source": [
    "#SPY and CHI analysis\n",
    "x = SPYandCHI[['AWND', 'PRCP','SNOW','TAVG']]\n",
    "x1 = SPYandCHI[['AWND','SNOW','TAVG']]\n",
    "x2 = SPYandCHI[['SNOW','TAVG']]\n",
    "x3 = SPYandCHI[['TAVG']]\n",
    "y = SPYandCHI[[' Volume']]\n",
    "\n",
    "vif = pd.DataFrame()\n",
    "vif[\"variables\"] = x.columns\n",
    "vif[\"VIF\"] = [variance_inflation_factor(x.values, i) for i in range(x.shape[1])]\n",
    "display(vif)\n",
    "\n",
    "x = sm.add_constant(x)\n",
    "x1 = sm.add_constant(x1)\n",
    "x2 = sm.add_constant(x2)\n",
    "x3 = sm.add_constant(x3)\n",
    "\n",
    "model = sm.OLS(y,x).fit()\n",
    "model1 = sm.OLS(y,x1).fit()\n",
    "model2 = sm.OLS(y,x2).fit()\n",
    "model3 = sm.OLS(y,x3).fit()\n",
    "test = sms.het_white(model.resid,model.model.exog)\n",
    "print(\"White test: \" + str(test))\n",
    "\n",
    "stargazer = Stargazer([model, model1,model2,model3])\n",
    "stargazer.title('SPY Volume and CHI Weather')\n",
    "stargazer.custom_columns(['Full model','Omit Precipitation','Omit Precipitation and Wind','Only Temperature'],[1,1,1,1])\n",
    "\n",
    "HTML(stargazer.render_html())"
   ]
  },
  {
   "cell_type": "code",
   "execution_count": null,
   "metadata": {},
   "outputs": [],
   "source": [
    "#define figure size\n",
    "fig = plt.figure(figsize=(12,8))\n",
    "\n",
    "#produce regression plots\n",
    "fig = sm.graphics.plot_regress_exog(model, 'PRCP', fig=fig)\n",
    "#plt.savefig('PRCPRegressionDiag.png')"
   ]
  },
  {
   "cell_type": "code",
   "execution_count": null,
   "metadata": {
    "scrolled": false
   },
   "outputs": [],
   "source": [
    "correlation = SPYandNYC.corr(method ='pearson')\n",
    "correlation_map = np.corrcoef(np.array(SPYandNYC),rowvar=False)\n",
    "heatmap = sns.heatmap(correlation_map,cbar=True, annot=True, square=True, fmt='.2f',yticklabels=SPYandNYC.columns,xticklabels=SPYandNYC.columns)\n",
    "plt.title('NYC weather and SPY Volume Correlation Matrix')\n",
    "#plt.savefig('NYCandSPYCorr.png')"
   ]
  },
  {
   "cell_type": "code",
   "execution_count": null,
   "metadata": {
    "scrolled": true
   },
   "outputs": [],
   "source": [
    "correlation = SPYandCHI.corr(method ='pearson')\n",
    "correlation_map = np.corrcoef(np.array(SPYandCHI),rowvar=False)\n",
    "heatmap = sns.heatmap(correlation_map,cbar=True, annot=True, square=True, fmt='.2f',yticklabels=SPYandCHI.columns,xticklabels=SPYandCHI.columns)\n",
    "plt.title('Chicago weather and SPY Volume Correlation Matrix')\n",
    "#plt.savefig('CHIandSPYCorr.png')"
   ]
  },
  {
   "cell_type": "code",
   "execution_count": null,
   "metadata": {},
   "outputs": [],
   "source": [
    "plt.figure(figsize=[12,8])\n",
    "plt.title(\"SPY daily trading volumes\")\n",
    "plt.plot(dfSPY)\n",
    "#plt.savefig('SPYDailyVolumes.png')"
   ]
  },
  {
   "cell_type": "code",
   "execution_count": null,
   "metadata": {},
   "outputs": [],
   "source": [
    "plt.figure(figsize=[12,8])\n",
    "plt.title(\"New York City Daily Snowfall\")\n",
    "plt.plot(dfNYC['SNOW'])\n",
    "#plt.savefig('NYCSnow.png')"
   ]
  },
  {
   "cell_type": "code",
   "execution_count": null,
   "metadata": {},
   "outputs": [],
   "source": [
    "plt.figure(figsize=[12,8])\n",
    "plt.title(\"Chicago Daily Snowfall\")\n",
    "plt.plot(dfCHI['SNOW'])\n",
    "#plt.savefig('CHISnow.png')"
   ]
  },
  {
   "cell_type": "code",
   "execution_count": null,
   "metadata": {},
   "outputs": [],
   "source": [
    "pval = normal_ad(model.resid)\n",
    "print(\"AD-test pval: \" + str(pval))\n",
    "plt.subplots(figsize=(12, 6))\n",
    "plt.title('Distribution of Residuals Chicago')\n",
    "sns.distplot([model.resid])\n",
    "#plt.savefig('CHIresid.png')"
   ]
  }
 ],
 "metadata": {
  "kernelspec": {
   "display_name": "Python 3",
   "language": "python",
   "name": "python3"
  },
  "language_info": {
   "codemirror_mode": {
    "name": "ipython",
    "version": 3
   },
   "file_extension": ".py",
   "mimetype": "text/x-python",
   "name": "python",
   "nbconvert_exporter": "python",
   "pygments_lexer": "ipython3",
   "version": "3.7.0"
  }
 },
 "nbformat": 4,
 "nbformat_minor": 2
}
